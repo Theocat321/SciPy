{
 "cells": [
  {
   "cell_type": "markdown",
   "id": "a3a18364",
   "metadata": {},
   "source": [
    "# Stroke classification \n",
    "This is a mlp neural network program which, based on previous data, will tell the user what risk from stroke them have. It determines this from inputs the user gives\n",
    "\n",
    "**This is not for real world purposes - simply for a project**"
   ]
  },
  {
   "cell_type": "code",
   "execution_count": 1,
   "id": "e98082b2",
   "metadata": {},
   "outputs": [],
   "source": [
    "import pandas as pd\n",
    "import seaborn as sns\n",
    "import matplotlib as plt\n",
    "from sklearn.metrics import confusion_matrix, classification_report, accuracy_score\n",
    "from sklearn.neural_network import MLPClassifier\n",
    "from sklearn.preprocessing import StandardScaler, LabelEncoder\n",
    "from sklearn.model_selection import train_test_split\n",
    "%matplotlib inline"
   ]
  },
  {
   "cell_type": "code",
   "execution_count": 2,
   "id": "a9466133",
   "metadata": {},
   "outputs": [],
   "source": [
    "csv = pd.read_csv(\"C:\\Adam\\Coding\\SciPy\\classification\\healthcare-dataset-stroke-data.csv\")"
   ]
  },
  {
   "cell_type": "code",
   "execution_count": 3,
   "id": "cd9ae87b",
   "metadata": {},
   "outputs": [
    {
     "data": {
      "text/html": [
       "<div>\n",
       "<style scoped>\n",
       "    .dataframe tbody tr th:only-of-type {\n",
       "        vertical-align: middle;\n",
       "    }\n",
       "\n",
       "    .dataframe tbody tr th {\n",
       "        vertical-align: top;\n",
       "    }\n",
       "\n",
       "    .dataframe thead th {\n",
       "        text-align: right;\n",
       "    }\n",
       "</style>\n",
       "<table border=\"1\" class=\"dataframe\">\n",
       "  <thead>\n",
       "    <tr style=\"text-align: right;\">\n",
       "      <th></th>\n",
       "      <th>id</th>\n",
       "      <th>gender</th>\n",
       "      <th>age</th>\n",
       "      <th>hypertension</th>\n",
       "      <th>heart_disease</th>\n",
       "      <th>ever_married</th>\n",
       "      <th>work_type</th>\n",
       "      <th>Residence_type</th>\n",
       "      <th>avg_glucose_level</th>\n",
       "      <th>bmi</th>\n",
       "      <th>smoking_status</th>\n",
       "      <th>stroke</th>\n",
       "    </tr>\n",
       "  </thead>\n",
       "  <tbody>\n",
       "    <tr>\n",
       "      <th>0</th>\n",
       "      <td>9046</td>\n",
       "      <td>Male</td>\n",
       "      <td>67.0</td>\n",
       "      <td>0</td>\n",
       "      <td>1</td>\n",
       "      <td>Yes</td>\n",
       "      <td>Private</td>\n",
       "      <td>Urban</td>\n",
       "      <td>228.69</td>\n",
       "      <td>36.6</td>\n",
       "      <td>formerly smoked</td>\n",
       "      <td>1</td>\n",
       "    </tr>\n",
       "    <tr>\n",
       "      <th>1</th>\n",
       "      <td>51676</td>\n",
       "      <td>Female</td>\n",
       "      <td>61.0</td>\n",
       "      <td>0</td>\n",
       "      <td>0</td>\n",
       "      <td>Yes</td>\n",
       "      <td>Self-employed</td>\n",
       "      <td>Rural</td>\n",
       "      <td>202.21</td>\n",
       "      <td>NaN</td>\n",
       "      <td>never smoked</td>\n",
       "      <td>1</td>\n",
       "    </tr>\n",
       "    <tr>\n",
       "      <th>2</th>\n",
       "      <td>31112</td>\n",
       "      <td>Male</td>\n",
       "      <td>80.0</td>\n",
       "      <td>0</td>\n",
       "      <td>1</td>\n",
       "      <td>Yes</td>\n",
       "      <td>Private</td>\n",
       "      <td>Rural</td>\n",
       "      <td>105.92</td>\n",
       "      <td>32.5</td>\n",
       "      <td>never smoked</td>\n",
       "      <td>1</td>\n",
       "    </tr>\n",
       "    <tr>\n",
       "      <th>3</th>\n",
       "      <td>60182</td>\n",
       "      <td>Female</td>\n",
       "      <td>49.0</td>\n",
       "      <td>0</td>\n",
       "      <td>0</td>\n",
       "      <td>Yes</td>\n",
       "      <td>Private</td>\n",
       "      <td>Urban</td>\n",
       "      <td>171.23</td>\n",
       "      <td>34.4</td>\n",
       "      <td>smokes</td>\n",
       "      <td>1</td>\n",
       "    </tr>\n",
       "    <tr>\n",
       "      <th>4</th>\n",
       "      <td>1665</td>\n",
       "      <td>Female</td>\n",
       "      <td>79.0</td>\n",
       "      <td>1</td>\n",
       "      <td>0</td>\n",
       "      <td>Yes</td>\n",
       "      <td>Self-employed</td>\n",
       "      <td>Rural</td>\n",
       "      <td>174.12</td>\n",
       "      <td>24.0</td>\n",
       "      <td>never smoked</td>\n",
       "      <td>1</td>\n",
       "    </tr>\n",
       "  </tbody>\n",
       "</table>\n",
       "</div>"
      ],
      "text/plain": [
       "      id  gender   age  hypertension  heart_disease ever_married  \\\n",
       "0   9046    Male  67.0             0              1          Yes   \n",
       "1  51676  Female  61.0             0              0          Yes   \n",
       "2  31112    Male  80.0             0              1          Yes   \n",
       "3  60182  Female  49.0             0              0          Yes   \n",
       "4   1665  Female  79.0             1              0          Yes   \n",
       "\n",
       "       work_type Residence_type  avg_glucose_level   bmi   smoking_status  \\\n",
       "0        Private          Urban             228.69  36.6  formerly smoked   \n",
       "1  Self-employed          Rural             202.21   NaN     never smoked   \n",
       "2        Private          Rural             105.92  32.5     never smoked   \n",
       "3        Private          Urban             171.23  34.4           smokes   \n",
       "4  Self-employed          Rural             174.12  24.0     never smoked   \n",
       "\n",
       "   stroke  \n",
       "0       1  \n",
       "1       1  \n",
       "2       1  \n",
       "3       1  \n",
       "4       1  "
      ]
     },
     "execution_count": 3,
     "metadata": {},
     "output_type": "execute_result"
    }
   ],
   "source": [
    "csv.head()"
   ]
  },
  {
   "cell_type": "code",
   "execution_count": 4,
   "id": "922eba1c",
   "metadata": {},
   "outputs": [
    {
     "name": "stdout",
     "output_type": "stream",
     "text": [
      "<class 'pandas.core.frame.DataFrame'>\n",
      "RangeIndex: 5110 entries, 0 to 5109\n",
      "Data columns (total 12 columns):\n",
      " #   Column             Non-Null Count  Dtype  \n",
      "---  ------             --------------  -----  \n",
      " 0   id                 5110 non-null   int64  \n",
      " 1   gender             5110 non-null   object \n",
      " 2   age                5110 non-null   float64\n",
      " 3   hypertension       5110 non-null   int64  \n",
      " 4   heart_disease      5110 non-null   int64  \n",
      " 5   ever_married       5110 non-null   object \n",
      " 6   work_type          5110 non-null   object \n",
      " 7   Residence_type     5110 non-null   object \n",
      " 8   avg_glucose_level  5110 non-null   float64\n",
      " 9   bmi                4909 non-null   float64\n",
      " 10  smoking_status     5110 non-null   object \n",
      " 11  stroke             5110 non-null   int64  \n",
      "dtypes: float64(3), int64(4), object(5)\n",
      "memory usage: 479.2+ KB\n"
     ]
    }
   ],
   "source": [
    "# Checking info of the pandas dataframe\n",
    "csv.info()"
   ]
  },
  {
   "cell_type": "code",
   "execution_count": 5,
   "id": "d6721e81",
   "metadata": {},
   "outputs": [
    {
     "data": {
      "text/plain": [
       "id                     0\n",
       "gender                 0\n",
       "age                    0\n",
       "hypertension           0\n",
       "heart_disease          0\n",
       "ever_married           0\n",
       "work_type              0\n",
       "Residence_type         0\n",
       "avg_glucose_level      0\n",
       "bmi                  201\n",
       "smoking_status         0\n",
       "stroke                 0\n",
       "dtype: int64"
      ]
     },
     "execution_count": 5,
     "metadata": {},
     "output_type": "execute_result"
    }
   ],
   "source": [
    "# finding how many null values\n",
    "csv.isnull().sum()"
   ]
  },
  {
   "cell_type": "code",
   "execution_count": 6,
   "id": "dbece109",
   "metadata": {},
   "outputs": [
    {
     "data": {
      "text/plain": [
       "0    4861\n",
       "1     249\n",
       "Name: stroke, dtype: int64"
      ]
     },
     "execution_count": 6,
     "metadata": {},
     "output_type": "execute_result"
    }
   ],
   "source": [
    "# Seeing how many people have had a stroke in the data set\n",
    "csv[\"stroke\"].value_counts()"
   ]
  },
  {
   "cell_type": "markdown",
   "id": "493b51ab",
   "metadata": {},
   "source": [
    "# Cleaning Data"
   ]
  },
  {
   "cell_type": "code",
   "execution_count": 7,
   "id": "10378b33",
   "metadata": {},
   "outputs": [],
   "source": [
    "# removing the id column\n",
    "csv = csv.drop([\"id\"], axis = 1)"
   ]
  },
  {
   "cell_type": "code",
   "execution_count": 8,
   "id": "5f046fec",
   "metadata": {},
   "outputs": [
    {
     "data": {
      "text/plain": [
       "Private          2925\n",
       "Self-employed     819\n",
       "children          687\n",
       "Govt_job          657\n",
       "Never_worked       22\n",
       "Name: work_type, dtype: int64"
      ]
     },
     "execution_count": 8,
     "metadata": {},
     "output_type": "execute_result"
    }
   ],
   "source": [
    "csv[\"work_type\"].value_counts()"
   ]
  },
  {
   "cell_type": "code",
   "execution_count": 9,
   "id": "971a3716",
   "metadata": {},
   "outputs": [],
   "source": [
    "# removing all rows with a null value in bmi\n",
    "csv.dropna(subset=[\"bmi\"],inplace = True) "
   ]
  },
  {
   "cell_type": "code",
   "execution_count": 10,
   "id": "1f63e208",
   "metadata": {},
   "outputs": [
    {
     "data": {
      "text/plain": [
       "gender               0\n",
       "age                  0\n",
       "hypertension         0\n",
       "heart_disease        0\n",
       "ever_married         0\n",
       "work_type            0\n",
       "Residence_type       0\n",
       "avg_glucose_level    0\n",
       "bmi                  0\n",
       "smoking_status       0\n",
       "stroke               0\n",
       "dtype: int64"
      ]
     },
     "execution_count": 10,
     "metadata": {},
     "output_type": "execute_result"
    }
   ],
   "source": [
    "# checking it worked - so we have no null values\n",
    "csv.isnull().sum() "
   ]
  },
  {
   "cell_type": "code",
   "execution_count": 11,
   "id": "ac6971d0",
   "metadata": {},
   "outputs": [],
   "source": [
    "# Create label encoder\n",
    "LabelEncoder = LabelEncoder()"
   ]
  },
  {
   "cell_type": "code",
   "execution_count": 12,
   "id": "105158a1",
   "metadata": {},
   "outputs": [
    {
     "data": {
      "text/html": [
       "<div>\n",
       "<style scoped>\n",
       "    .dataframe tbody tr th:only-of-type {\n",
       "        vertical-align: middle;\n",
       "    }\n",
       "\n",
       "    .dataframe tbody tr th {\n",
       "        vertical-align: top;\n",
       "    }\n",
       "\n",
       "    .dataframe thead th {\n",
       "        text-align: right;\n",
       "    }\n",
       "</style>\n",
       "<table border=\"1\" class=\"dataframe\">\n",
       "  <thead>\n",
       "    <tr style=\"text-align: right;\">\n",
       "      <th></th>\n",
       "      <th>gender</th>\n",
       "      <th>age</th>\n",
       "      <th>hypertension</th>\n",
       "      <th>heart_disease</th>\n",
       "      <th>ever_married</th>\n",
       "      <th>work_type</th>\n",
       "      <th>Residence_type</th>\n",
       "      <th>avg_glucose_level</th>\n",
       "      <th>bmi</th>\n",
       "      <th>smoking_status</th>\n",
       "      <th>stroke</th>\n",
       "    </tr>\n",
       "  </thead>\n",
       "  <tbody>\n",
       "    <tr>\n",
       "      <th>0</th>\n",
       "      <td>Male</td>\n",
       "      <td>67.0</td>\n",
       "      <td>0</td>\n",
       "      <td>1</td>\n",
       "      <td>Yes</td>\n",
       "      <td>Private</td>\n",
       "      <td>Urban</td>\n",
       "      <td>228.69</td>\n",
       "      <td>36.6</td>\n",
       "      <td>formerly smoked</td>\n",
       "      <td>1</td>\n",
       "    </tr>\n",
       "    <tr>\n",
       "      <th>2</th>\n",
       "      <td>Male</td>\n",
       "      <td>80.0</td>\n",
       "      <td>0</td>\n",
       "      <td>1</td>\n",
       "      <td>Yes</td>\n",
       "      <td>Private</td>\n",
       "      <td>Rural</td>\n",
       "      <td>105.92</td>\n",
       "      <td>32.5</td>\n",
       "      <td>never smoked</td>\n",
       "      <td>1</td>\n",
       "    </tr>\n",
       "    <tr>\n",
       "      <th>3</th>\n",
       "      <td>Female</td>\n",
       "      <td>49.0</td>\n",
       "      <td>0</td>\n",
       "      <td>0</td>\n",
       "      <td>Yes</td>\n",
       "      <td>Private</td>\n",
       "      <td>Urban</td>\n",
       "      <td>171.23</td>\n",
       "      <td>34.4</td>\n",
       "      <td>smokes</td>\n",
       "      <td>1</td>\n",
       "    </tr>\n",
       "    <tr>\n",
       "      <th>4</th>\n",
       "      <td>Female</td>\n",
       "      <td>79.0</td>\n",
       "      <td>1</td>\n",
       "      <td>0</td>\n",
       "      <td>Yes</td>\n",
       "      <td>Self-employed</td>\n",
       "      <td>Rural</td>\n",
       "      <td>174.12</td>\n",
       "      <td>24.0</td>\n",
       "      <td>never smoked</td>\n",
       "      <td>1</td>\n",
       "    </tr>\n",
       "    <tr>\n",
       "      <th>5</th>\n",
       "      <td>Male</td>\n",
       "      <td>81.0</td>\n",
       "      <td>0</td>\n",
       "      <td>0</td>\n",
       "      <td>Yes</td>\n",
       "      <td>Private</td>\n",
       "      <td>Urban</td>\n",
       "      <td>186.21</td>\n",
       "      <td>29.0</td>\n",
       "      <td>formerly smoked</td>\n",
       "      <td>1</td>\n",
       "    </tr>\n",
       "    <tr>\n",
       "      <th>6</th>\n",
       "      <td>Male</td>\n",
       "      <td>74.0</td>\n",
       "      <td>1</td>\n",
       "      <td>1</td>\n",
       "      <td>Yes</td>\n",
       "      <td>Private</td>\n",
       "      <td>Rural</td>\n",
       "      <td>70.09</td>\n",
       "      <td>27.4</td>\n",
       "      <td>never smoked</td>\n",
       "      <td>1</td>\n",
       "    </tr>\n",
       "    <tr>\n",
       "      <th>7</th>\n",
       "      <td>Female</td>\n",
       "      <td>69.0</td>\n",
       "      <td>0</td>\n",
       "      <td>0</td>\n",
       "      <td>No</td>\n",
       "      <td>Private</td>\n",
       "      <td>Urban</td>\n",
       "      <td>94.39</td>\n",
       "      <td>22.8</td>\n",
       "      <td>never smoked</td>\n",
       "      <td>1</td>\n",
       "    </tr>\n",
       "    <tr>\n",
       "      <th>9</th>\n",
       "      <td>Female</td>\n",
       "      <td>78.0</td>\n",
       "      <td>0</td>\n",
       "      <td>0</td>\n",
       "      <td>Yes</td>\n",
       "      <td>Private</td>\n",
       "      <td>Urban</td>\n",
       "      <td>58.57</td>\n",
       "      <td>24.2</td>\n",
       "      <td>Unknown</td>\n",
       "      <td>1</td>\n",
       "    </tr>\n",
       "    <tr>\n",
       "      <th>10</th>\n",
       "      <td>Female</td>\n",
       "      <td>81.0</td>\n",
       "      <td>1</td>\n",
       "      <td>0</td>\n",
       "      <td>Yes</td>\n",
       "      <td>Private</td>\n",
       "      <td>Rural</td>\n",
       "      <td>80.43</td>\n",
       "      <td>29.7</td>\n",
       "      <td>never smoked</td>\n",
       "      <td>1</td>\n",
       "    </tr>\n",
       "    <tr>\n",
       "      <th>11</th>\n",
       "      <td>Female</td>\n",
       "      <td>61.0</td>\n",
       "      <td>0</td>\n",
       "      <td>1</td>\n",
       "      <td>Yes</td>\n",
       "      <td>Govt_job</td>\n",
       "      <td>Rural</td>\n",
       "      <td>120.46</td>\n",
       "      <td>36.8</td>\n",
       "      <td>smokes</td>\n",
       "      <td>1</td>\n",
       "    </tr>\n",
       "  </tbody>\n",
       "</table>\n",
       "</div>"
      ],
      "text/plain": [
       "    gender   age  hypertension  heart_disease ever_married      work_type  \\\n",
       "0     Male  67.0             0              1          Yes        Private   \n",
       "2     Male  80.0             0              1          Yes        Private   \n",
       "3   Female  49.0             0              0          Yes        Private   \n",
       "4   Female  79.0             1              0          Yes  Self-employed   \n",
       "5     Male  81.0             0              0          Yes        Private   \n",
       "6     Male  74.0             1              1          Yes        Private   \n",
       "7   Female  69.0             0              0           No        Private   \n",
       "9   Female  78.0             0              0          Yes        Private   \n",
       "10  Female  81.0             1              0          Yes        Private   \n",
       "11  Female  61.0             0              1          Yes       Govt_job   \n",
       "\n",
       "   Residence_type  avg_glucose_level   bmi   smoking_status  stroke  \n",
       "0           Urban             228.69  36.6  formerly smoked       1  \n",
       "2           Rural             105.92  32.5     never smoked       1  \n",
       "3           Urban             171.23  34.4           smokes       1  \n",
       "4           Rural             174.12  24.0     never smoked       1  \n",
       "5           Urban             186.21  29.0  formerly smoked       1  \n",
       "6           Rural              70.09  27.4     never smoked       1  \n",
       "7           Urban              94.39  22.8     never smoked       1  \n",
       "9           Urban              58.57  24.2          Unknown       1  \n",
       "10          Rural              80.43  29.7     never smoked       1  \n",
       "11          Rural             120.46  36.8           smokes       1  "
      ]
     },
     "execution_count": 12,
     "metadata": {},
     "output_type": "execute_result"
    }
   ],
   "source": [
    "csv.head(10)"
   ]
  },
  {
   "cell_type": "code",
   "execution_count": 13,
   "id": "916886f0",
   "metadata": {},
   "outputs": [],
   "source": [
    "# Change Gender into int | 1 = male , 0 = female\n",
    "csv[\"gender\"] = LabelEncoder.fit_transform(csv[\"gender\"])"
   ]
  },
  {
   "cell_type": "code",
   "execution_count": 14,
   "id": "dfd6676e",
   "metadata": {},
   "outputs": [],
   "source": [
    "# Change ever marrier to int | 1 = yes, 0 = no\n",
    "csv[\"ever_married\"] = LabelEncoder.fit_transform(csv[\"ever_married\"])"
   ]
  },
  {
   "cell_type": "code",
   "execution_count": 15,
   "id": "d86fab77",
   "metadata": {},
   "outputs": [],
   "source": [
    "# Change smoking status into int | unknown = 0, formally smoked = 1, never smoked = 2, smokes = 3\n",
    "csv[\"smoking_status\"] = LabelEncoder.fit_transform(csv[\"smoking_status\"])"
   ]
  },
  {
   "cell_type": "code",
   "execution_count": 16,
   "id": "0726d094",
   "metadata": {},
   "outputs": [],
   "source": [
    "# Change Residence_type into int | 0 = rural, 1 = urban\n",
    "csv[\"Residence_type\"] = LabelEncoder.fit_transform(csv[\"Residence_type\"])"
   ]
  },
  {
   "cell_type": "code",
   "execution_count": 17,
   "id": "f998687f",
   "metadata": {},
   "outputs": [],
   "source": [
    "# Change work_type into int | 0 = Govt_job, 1 = Never_worked, 2 = Private, 3 = Self-Employed, 4 = children\n",
    "csv[\"work_type\"] = LabelEncoder.fit_transform(csv[\"work_type\"])"
   ]
  },
  {
   "cell_type": "code",
   "execution_count": 18,
   "id": "87260c4e",
   "metadata": {},
   "outputs": [
    {
     "data": {
      "text/html": [
       "<div>\n",
       "<style scoped>\n",
       "    .dataframe tbody tr th:only-of-type {\n",
       "        vertical-align: middle;\n",
       "    }\n",
       "\n",
       "    .dataframe tbody tr th {\n",
       "        vertical-align: top;\n",
       "    }\n",
       "\n",
       "    .dataframe thead th {\n",
       "        text-align: right;\n",
       "    }\n",
       "</style>\n",
       "<table border=\"1\" class=\"dataframe\">\n",
       "  <thead>\n",
       "    <tr style=\"text-align: right;\">\n",
       "      <th></th>\n",
       "      <th>gender</th>\n",
       "      <th>age</th>\n",
       "      <th>hypertension</th>\n",
       "      <th>heart_disease</th>\n",
       "      <th>ever_married</th>\n",
       "      <th>work_type</th>\n",
       "      <th>Residence_type</th>\n",
       "      <th>avg_glucose_level</th>\n",
       "      <th>bmi</th>\n",
       "      <th>smoking_status</th>\n",
       "      <th>stroke</th>\n",
       "    </tr>\n",
       "  </thead>\n",
       "  <tbody>\n",
       "    <tr>\n",
       "      <th>0</th>\n",
       "      <td>1</td>\n",
       "      <td>67.0</td>\n",
       "      <td>0</td>\n",
       "      <td>1</td>\n",
       "      <td>1</td>\n",
       "      <td>2</td>\n",
       "      <td>1</td>\n",
       "      <td>228.69</td>\n",
       "      <td>36.6</td>\n",
       "      <td>1</td>\n",
       "      <td>1</td>\n",
       "    </tr>\n",
       "    <tr>\n",
       "      <th>2</th>\n",
       "      <td>1</td>\n",
       "      <td>80.0</td>\n",
       "      <td>0</td>\n",
       "      <td>1</td>\n",
       "      <td>1</td>\n",
       "      <td>2</td>\n",
       "      <td>0</td>\n",
       "      <td>105.92</td>\n",
       "      <td>32.5</td>\n",
       "      <td>2</td>\n",
       "      <td>1</td>\n",
       "    </tr>\n",
       "    <tr>\n",
       "      <th>3</th>\n",
       "      <td>0</td>\n",
       "      <td>49.0</td>\n",
       "      <td>0</td>\n",
       "      <td>0</td>\n",
       "      <td>1</td>\n",
       "      <td>2</td>\n",
       "      <td>1</td>\n",
       "      <td>171.23</td>\n",
       "      <td>34.4</td>\n",
       "      <td>3</td>\n",
       "      <td>1</td>\n",
       "    </tr>\n",
       "    <tr>\n",
       "      <th>4</th>\n",
       "      <td>0</td>\n",
       "      <td>79.0</td>\n",
       "      <td>1</td>\n",
       "      <td>0</td>\n",
       "      <td>1</td>\n",
       "      <td>3</td>\n",
       "      <td>0</td>\n",
       "      <td>174.12</td>\n",
       "      <td>24.0</td>\n",
       "      <td>2</td>\n",
       "      <td>1</td>\n",
       "    </tr>\n",
       "    <tr>\n",
       "      <th>5</th>\n",
       "      <td>1</td>\n",
       "      <td>81.0</td>\n",
       "      <td>0</td>\n",
       "      <td>0</td>\n",
       "      <td>1</td>\n",
       "      <td>2</td>\n",
       "      <td>1</td>\n",
       "      <td>186.21</td>\n",
       "      <td>29.0</td>\n",
       "      <td>1</td>\n",
       "      <td>1</td>\n",
       "    </tr>\n",
       "    <tr>\n",
       "      <th>6</th>\n",
       "      <td>1</td>\n",
       "      <td>74.0</td>\n",
       "      <td>1</td>\n",
       "      <td>1</td>\n",
       "      <td>1</td>\n",
       "      <td>2</td>\n",
       "      <td>0</td>\n",
       "      <td>70.09</td>\n",
       "      <td>27.4</td>\n",
       "      <td>2</td>\n",
       "      <td>1</td>\n",
       "    </tr>\n",
       "    <tr>\n",
       "      <th>7</th>\n",
       "      <td>0</td>\n",
       "      <td>69.0</td>\n",
       "      <td>0</td>\n",
       "      <td>0</td>\n",
       "      <td>0</td>\n",
       "      <td>2</td>\n",
       "      <td>1</td>\n",
       "      <td>94.39</td>\n",
       "      <td>22.8</td>\n",
       "      <td>2</td>\n",
       "      <td>1</td>\n",
       "    </tr>\n",
       "    <tr>\n",
       "      <th>9</th>\n",
       "      <td>0</td>\n",
       "      <td>78.0</td>\n",
       "      <td>0</td>\n",
       "      <td>0</td>\n",
       "      <td>1</td>\n",
       "      <td>2</td>\n",
       "      <td>1</td>\n",
       "      <td>58.57</td>\n",
       "      <td>24.2</td>\n",
       "      <td>0</td>\n",
       "      <td>1</td>\n",
       "    </tr>\n",
       "    <tr>\n",
       "      <th>10</th>\n",
       "      <td>0</td>\n",
       "      <td>81.0</td>\n",
       "      <td>1</td>\n",
       "      <td>0</td>\n",
       "      <td>1</td>\n",
       "      <td>2</td>\n",
       "      <td>0</td>\n",
       "      <td>80.43</td>\n",
       "      <td>29.7</td>\n",
       "      <td>2</td>\n",
       "      <td>1</td>\n",
       "    </tr>\n",
       "    <tr>\n",
       "      <th>11</th>\n",
       "      <td>0</td>\n",
       "      <td>61.0</td>\n",
       "      <td>0</td>\n",
       "      <td>1</td>\n",
       "      <td>1</td>\n",
       "      <td>0</td>\n",
       "      <td>0</td>\n",
       "      <td>120.46</td>\n",
       "      <td>36.8</td>\n",
       "      <td>3</td>\n",
       "      <td>1</td>\n",
       "    </tr>\n",
       "  </tbody>\n",
       "</table>\n",
       "</div>"
      ],
      "text/plain": [
       "    gender   age  hypertension  heart_disease  ever_married  work_type  \\\n",
       "0        1  67.0             0              1             1          2   \n",
       "2        1  80.0             0              1             1          2   \n",
       "3        0  49.0             0              0             1          2   \n",
       "4        0  79.0             1              0             1          3   \n",
       "5        1  81.0             0              0             1          2   \n",
       "6        1  74.0             1              1             1          2   \n",
       "7        0  69.0             0              0             0          2   \n",
       "9        0  78.0             0              0             1          2   \n",
       "10       0  81.0             1              0             1          2   \n",
       "11       0  61.0             0              1             1          0   \n",
       "\n",
       "    Residence_type  avg_glucose_level   bmi  smoking_status  stroke  \n",
       "0                1             228.69  36.6               1       1  \n",
       "2                0             105.92  32.5               2       1  \n",
       "3                1             171.23  34.4               3       1  \n",
       "4                0             174.12  24.0               2       1  \n",
       "5                1             186.21  29.0               1       1  \n",
       "6                0              70.09  27.4               2       1  \n",
       "7                1              94.39  22.8               2       1  \n",
       "9                1              58.57  24.2               0       1  \n",
       "10               0              80.43  29.7               2       1  \n",
       "11               0             120.46  36.8               3       1  "
      ]
     },
     "execution_count": 18,
     "metadata": {},
     "output_type": "execute_result"
    }
   ],
   "source": [
    "csv.head(10)"
   ]
  },
  {
   "cell_type": "markdown",
   "id": "eedad766",
   "metadata": {},
   "source": [
    "# Training and testing data"
   ]
  },
  {
   "cell_type": "code",
   "execution_count": 19,
   "id": "c4fa1967",
   "metadata": {},
   "outputs": [],
   "source": [
    "X = csv.drop([\"stroke\"],axis=1)# All data without stroke label\n",
    "y = csv[\"stroke\"]"
   ]
  },
  {
   "cell_type": "code",
   "execution_count": 20,
   "id": "29b313ff",
   "metadata": {},
   "outputs": [],
   "source": [
    "# get training and testing data split\n",
    "X_train, X_test, y_train, y_test = train_test_split(X,y, test_size = 0.2, random_state = 42)"
   ]
  },
  {
   "cell_type": "markdown",
   "id": "d305853f",
   "metadata": {},
   "source": [
    "## Scale data"
   ]
  },
  {
   "cell_type": "code",
   "execution_count": 21,
   "id": "9a3d39bd",
   "metadata": {},
   "outputs": [],
   "source": [
    "sc = StandardScaler()"
   ]
  },
  {
   "cell_type": "code",
   "execution_count": 22,
   "id": "a03e0412",
   "metadata": {},
   "outputs": [],
   "source": [
    "X_train = sc.fit_transform(X_train)\n",
    "X_test = sc.transform(X_test)"
   ]
  },
  {
   "cell_type": "markdown",
   "id": "0326e652",
   "metadata": {},
   "source": [
    "# MLP classification model "
   ]
  },
  {
   "cell_type": "code",
   "execution_count": 23,
   "id": "97b53bf0",
   "metadata": {},
   "outputs": [],
   "source": [
    "mlp = MLPClassifier(hidden_layer_sizes=(11,11,11), max_iter=500)\n",
    "mlp.fit(X_train,y_train)\n",
    "mlp_pred = mlp.predict(X_test)"
   ]
  },
  {
   "cell_type": "code",
   "execution_count": 24,
   "id": "77559d3c",
   "metadata": {},
   "outputs": [
    {
     "name": "stdout",
     "output_type": "stream",
     "text": [
      "              precision    recall  f1-score   support\n",
      "\n",
      "           0       0.99      0.95      0.97       973\n",
      "           1       0.02      0.11      0.03         9\n",
      "\n",
      "    accuracy                           0.94       982\n",
      "   macro avg       0.51      0.53      0.50       982\n",
      "weighted avg       0.98      0.94      0.96       982\n",
      "\n",
      "[[921  52]\n",
      " [  8   1]]\n",
      "0.9389002036659878\n"
     ]
    }
   ],
   "source": [
    "print(classification_report(mlp_pred,y_test))\n",
    "print(confusion_matrix(mlp_pred,y_test))\n",
    "print(accuracy_score(mlp_pred,y_test))"
   ]
  },
  {
   "cell_type": "markdown",
   "id": "5f93530d",
   "metadata": {},
   "source": [
    "# Displaying Data"
   ]
  },
  {
   "cell_type": "code",
   "execution_count": 25,
   "id": "116094c6",
   "metadata": {},
   "outputs": [
    {
     "name": "stderr",
     "output_type": "stream",
     "text": [
      "C:\\Adam\\Anaconda\\lib\\site-packages\\seaborn\\_decorators.py:36: FutureWarning: Pass the following variable as a keyword arg: x. From version 0.12, the only valid positional argument will be `data`, and passing other arguments without an explicit keyword will result in an error or misinterpretation.\n",
      "  warnings.warn(\n"
     ]
    },
    {
     "data": {
      "text/plain": [
       "<AxesSubplot:xlabel='stroke', ylabel='count'>"
      ]
     },
     "execution_count": 25,
     "metadata": {},
     "output_type": "execute_result"
    },
    {
     "data": {
      "image/png": "[encoded data removed]",
      "text/plain": [
       "<Figure size 432x288 with 1 Axes>"
      ]
     },
     "metadata": {
      "needs_background": "light"
     },
     "output_type": "display_data"
    }
   ],
   "source": [
    "sns.countplot(csv[\"stroke\"])"
   ]
  },
  {
   "cell_type": "markdown",
   "id": "5f1fd707",
   "metadata": {},
   "source": [
    "# Using the model"
   ]
  },
  {
   "cell_type": "markdown",
   "id": "473681e9",
   "metadata": {},
   "source": [
    "### Taking inputs for the model from the user"
   ]
  },
  {
   "cell_type": "code",
   "execution_count": 26,
   "id": "0c1d624a",
   "metadata": {},
   "outputs": [
    {
     "name": "stdout",
     "output_type": "stream",
     "text": [
      "What gender are you? male/female male\n"
     ]
    }
   ],
   "source": [
    "aGender = input(\"What gender are you? male/female \")"
   ]
  },
  {
   "cell_type": "code",
   "execution_count": 27,
   "id": "2bedff8d",
   "metadata": {},
   "outputs": [
    {
     "name": "stdout",
     "output_type": "stream",
     "text": [
      "How old are you? 16\n"
     ]
    }
   ],
   "source": [
    "aAge = int(input(\"How old are you? \"))"
   ]
  },
  {
   "cell_type": "code",
   "execution_count": 28,
   "id": "0573bc47",
   "metadata": {},
   "outputs": [
    {
     "name": "stdout",
     "output_type": "stream",
     "text": [
      "Do you have hypertension? yes/no no\n"
     ]
    }
   ],
   "source": [
    "aHypertension = input(\"Do you have hypertension? yes/no \")"
   ]
  },
  {
   "cell_type": "code",
   "execution_count": 29,
   "id": "68f97cfe",
   "metadata": {},
   "outputs": [
    {
     "name": "stdout",
     "output_type": "stream",
     "text": [
      "Do you have a heart disease? yes/no no\n"
     ]
    }
   ],
   "source": [
    "aHeart_disease = input(\"Do you have a heart disease? yes/no \")"
   ]
  },
  {
   "cell_type": "code",
   "execution_count": 30,
   "id": "3bd3b3f8",
   "metadata": {},
   "outputs": [
    {
     "name": "stdout",
     "output_type": "stream",
     "text": [
      "Have you ever been married? yes/no no\n"
     ]
    }
   ],
   "source": [
    "aMarried = input(\"Have you ever been married? yes/no \")"
   ]
  },
  {
   "cell_type": "code",
   "execution_count": 31,
   "id": "85fbfccc",
   "metadata": {},
   "outputs": [
    {
     "name": "stdout",
     "output_type": "stream",
     "text": [
      "What work type have you been in: private, selfemployed, children, govtjob, neverworked? private\n"
     ]
    }
   ],
   "source": [
    "aWork_type = input(\"What work type have you been in: private, selfemployed, children, govtjob, neverworked? \")"
   ]
  },
  {
   "cell_type": "code",
   "execution_count": 32,
   "id": "b7a88990",
   "metadata": {},
   "outputs": [
    {
     "name": "stdout",
     "output_type": "stream",
     "text": [
      "Where do you live? urban/ ruralurban\n"
     ]
    }
   ],
   "source": [
    "aResidence_type = input(\"Where do you live? urban/ rural\")"
   ]
  },
  {
   "cell_type": "code",
   "execution_count": 33,
   "id": "ec91310a",
   "metadata": {},
   "outputs": [
    {
     "name": "stdout",
     "output_type": "stream",
     "text": [
      "What is the average glucose level in your blood? 140\n"
     ]
    }
   ],
   "source": [
    "aAvg_glucose_level = float(input(\"What is the average glucose level in your blood? \"))"
   ]
  },
  {
   "cell_type": "code",
   "execution_count": 34,
   "id": "191bf8ba",
   "metadata": {},
   "outputs": [
    {
     "name": "stdout",
     "output_type": "stream",
     "text": [
      "What is your bmi?22.1\n"
     ]
    }
   ],
   "source": [
    "aBmi = float(input(\"What is your bmi?\"))"
   ]
  },
  {
   "cell_type": "code",
   "execution_count": 35,
   "id": "581f30ad",
   "metadata": {},
   "outputs": [
    {
     "name": "stdout",
     "output_type": "stream",
     "text": [
      "Do you smoke? formerly, never, yesnever\n"
     ]
    }
   ],
   "source": [
    "aSmoke = input(\"Do you smoke? formerly, never, yes\")"
   ]
  },
  {
   "cell_type": "markdown",
   "id": "a706f8b7",
   "metadata": {},
   "source": [
    "### Cleaning user input"
   ]
  },
  {
   "cell_type": "code",
   "execution_count": 36,
   "id": "0ae59a61",
   "metadata": {},
   "outputs": [],
   "source": [
    "# Turning gender into int\n",
    "if aGender.lower() == \"male\":\n",
    "    aGender = 1\n",
    "elif aGender.lower() == \"female\":\n",
    "    aGender = 0 "
   ]
  },
  {
   "cell_type": "code",
   "execution_count": 37,
   "id": "4f1c27f9",
   "metadata": {},
   "outputs": [],
   "source": [
    "# function to turn yes and no into 1 and 0\n",
    "def inpToBool(inp):\n",
    "    out = -1\n",
    "    if inp.lower() == \"yes\":\n",
    "        out = 1\n",
    "    elif inp.lower() == \"no\":\n",
    "        out = 0\n",
    "    return out"
   ]
  },
  {
   "cell_type": "code",
   "execution_count": 38,
   "id": "33a9c100",
   "metadata": {},
   "outputs": [],
   "source": [
    "aHypertension = inpToBool(aHypertension)\n",
    "aHeart_disease = inpToBool(aHeart_disease)\n",
    "aMarried = inpToBool(aMarried)\n"
   ]
  },
  {
   "cell_type": "code",
   "execution_count": 39,
   "id": "e01ccc96",
   "metadata": {},
   "outputs": [],
   "source": [
    "# Work type to int\n",
    "if aWork_type == \"private\":\n",
    "    aWork_type = 2\n",
    "elif aWork_type == \"selfemployed\":\n",
    "    aWork_type = 3\n",
    "elif aWork_type == \"children\":\n",
    "    aWork_type = 4\n",
    "elif aWork_type == \"govtjob\":\n",
    "    aWork_type = 0\n",
    "elif aWork_type == \"neveerworked\":\n",
    "    aWork_type = 1"
   ]
  },
  {
   "cell_type": "code",
   "execution_count": 40,
   "id": "ce9d033a",
   "metadata": {},
   "outputs": [],
   "source": [
    "# Residance into int\n",
    "if aResidence_type == \"urban\":\n",
    "    aResidence_type = 1\n",
    "elif aResidence_type == \"rural\":\n",
    "    aResidence_type = 0"
   ]
  },
  {
   "cell_type": "code",
   "execution_count": 41,
   "id": "432e3d74",
   "metadata": {},
   "outputs": [],
   "source": [
    "# converting smoke into int\n",
    "if aSmoke == \"formerly\":\n",
    "    aSmoke = 1\n",
    "elif aSmoke == \"never\":\n",
    "    aSmoke = 2\n",
    "elif aSmoke == \"yes\":\n",
    "    aSmoke = 3"
   ]
  },
  {
   "cell_type": "markdown",
   "id": "d7fe47b9",
   "metadata": {},
   "source": [
    "### Applying data to model"
   ]
  },
  {
   "cell_type": "code",
   "execution_count": 42,
   "id": "d65e58f8",
   "metadata": {},
   "outputs": [
    {
     "name": "stdout",
     "output_type": "stream",
     "text": [
      "You have a low risk of stroke based on previous data\n"
     ]
    }
   ],
   "source": [
    "Xnew = [[aGender,aAge,aHypertension,aHeart_disease,aMarried,aWork_type,aResidence_type,aAvg_glucose_level,aBmi,aSmoke]]\n",
    "Xnew = sc.transform(Xnew)\n",
    "ynew = mlp.predict(Xnew)\n",
    "if ynew[0] == 0:\n",
    "    print(\"You have a low risk of stroke based on previous data\")\n",
    "else:\n",
    "    print(\"You might have a higher risk of stroke\")\n"
   ]
  }
 ],
 "metadata": {
  "kernelspec": {
   "display_name": "Python 3 (ipykernel)",
   "language": "python",
   "name": "python3"
  },
  "language_info": {
   "codemirror_mode": {
    "name": "ipython",
    "version": 3
   },
   "file_extension": ".py",
   "mimetype": "text/x-python",
   "name": "python",
   "nbconvert_exporter": "python",
   "pygments_lexer": "ipython3",
   "version": "3.9.7"
  }
 },
 "nbformat": 4,
 "nbformat_minor": 5
}
